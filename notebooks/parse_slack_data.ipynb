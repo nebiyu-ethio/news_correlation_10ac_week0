{
 "cells": [
  {
   "cell_type": "code",
   "execution_count": 7,
   "metadata": {},
   "outputs": [],
   "source": [
    "import pandas as pd"
   ]
  },
  {
   "cell_type": "markdown",
   "metadata": {},
   "source": [
    "# Task 1.a"
   ]
  },
  {
   "cell_type": "code",
   "execution_count": 6,
   "metadata": {},
   "outputs": [
    {
     "name": "stdout",
     "output_type": "stream",
     "text": [
      "Top 10 Websites with Most Articles:\n",
      "source_name\n",
      "ETF Daily News        16631\n",
      "The Times of India     7629\n",
      "GlobeNewswire          5485\n",
      "Forbes                 4423\n",
      "Biztoc.com             3968\n",
      "BBC News               3342\n",
      "Globalsecurity.org     3093\n",
      "Business Insider       2746\n",
      "ABC News               2188\n",
      "Marketscreener.com     1948\n",
      "Name: count, dtype: int64\n",
      "\n",
      "Bottom 10 Websites with Least Articles:\n",
      "source_name\n",
      "Influxdata.com          1\n",
      "Without.boats           1\n",
      "Nota-lang.org           1\n",
      "Koyeb.com               1\n",
      "UW News                 1\n",
      "Knowablemagazine.org    1\n",
      "News.rub.de             1\n",
      "Robertovitillo.com      1\n",
      "Signoz.io               1\n",
      "Omnigroup.com           1\n",
      "Name: count, dtype: int64\n"
     ]
    }
   ],
   "source": []
  }
 ],
 "metadata": {
  "kernelspec": {
   "display_name": "base",
   "language": "python",
   "name": "python3"
  },
  "language_info": {
   "codemirror_mode": {
    "name": "ipython",
    "version": 3
   },
   "file_extension": ".py",
   "mimetype": "text/x-python",
   "name": "python",
   "nbconvert_exporter": "python",
   "pygments_lexer": "ipython3",
   "version": "3.12.4"
  }
 },
 "nbformat": 4,
 "nbformat_minor": 2
}
